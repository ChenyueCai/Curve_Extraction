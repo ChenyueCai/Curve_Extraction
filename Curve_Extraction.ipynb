{
 "cells": [
  {
   "cell_type": "markdown",
   "metadata": {},
   "source": [
    "# Curve Extraction"
   ]
  },
  {
   "cell_type": "markdown",
   "metadata": {},
   "source": [
    "The goal is to extract numerical values from an image. "
   ]
  },
  {
   "cell_type": "markdown",
   "metadata": {},
   "source": [
    "### 1. Image import and Preprocessing"
   ]
  },
  {
   "cell_type": "code",
   "execution_count": 1,
   "metadata": {},
   "outputs": [],
   "source": [
    "import skimage.io as skio\n",
    "import numpy as np"
   ]
  },
  {
   "cell_type": "code",
   "execution_count": 61,
   "metadata": {},
   "outputs": [],
   "source": [
    "figure1 = skio.imread('Figure4.png')"
   ]
  },
  {
   "cell_type": "code",
   "execution_count": 66,
   "metadata": {
    "scrolled": false
   },
   "outputs": [
    {
     "data": {
      "text/plain": [
       "<matplotlib.image.AxesImage at 0x7fa54b942a58>"
      ]
     },
     "execution_count": 66,
     "metadata": {},
     "output_type": "execute_result"
    },
    {
     "data": {
      "image/png": "[encoded data removed]",
      "text/plain": [
       "<Figure size 432x288 with 1 Axes>"
      ]
     },
     "metadata": {
      "needs_background": "light"
     },
     "output_type": "display_data"
    }
   ],
   "source": [
    "skio.imshow(figure1)"
   ]
  },
  {
   "cell_type": "code",
   "execution_count": 63,
   "metadata": {},
   "outputs": [],
   "source": [
    "figure1 = np.delete(figure1, 3,2)"
   ]
  },
  {
   "cell_type": "code",
   "execution_count": 64,
   "metadata": {},
   "outputs": [],
   "source": [
    "# Make legend as a part of background\n",
    "figure1[:, 800:,:] = [255,255,255]"
   ]
  },
  {
   "cell_type": "code",
   "execution_count": 65,
   "metadata": {},
   "outputs": [],
   "source": [
    "h, w, _ = figure1.shape"
   ]
  },
  {
   "cell_type": "markdown",
   "metadata": {},
   "source": [
    "### 2. Extract and rescale the coordinates"
   ]
  },
  {
   "cell_type": "code",
   "execution_count": 25,
   "metadata": {},
   "outputs": [],
   "source": [
    "# Extract coordinate of a certain color from the original graph\n",
    "# Using vectorization\n",
    "# Note: the pixel pairs is (h,w)/(y,x)\n",
    "\n",
    "def extract_cord(h, w, img, color, delta):\n",
    "    low = color - delta\n",
    "    high = color + delta\n",
    "    \n",
    "    h_coord, w_coord =  np.where((img[:,:,0] < high[0]) & (img[:,:,0] > low[0]) & \\\n",
    "                    (img[:,:,1] < high[1]) & (img[:,:,1] > low[1]) & \\\n",
    "                    (img[:,:,2] < high[2]) & (img[:,:,2] > low[2]) )\n",
    "    print(h_coord,w_coord)\n",
    "    coords = np.zeros((len(h_coord),2))\n",
    "    coords[:,0] = h - h_coord\n",
    "    coords[:,1] = w_coord\n",
    "    print(coords)\n",
    "    return coords\n",
    "    \n",
    "    '''\n",
    "    The following is an unvectorized implementation:\n",
    "    \n",
    "    for i in range(h):\n",
    "        for j in range(w):\n",
    "            pix = img[i][j]\n",
    "            exit = False\n",
    "            for k in range(3):\n",
    "                if pix[k] > high[k] or pix[k] < low[k]:\n",
    "                    exit = True\n",
    "            if exit == True:\n",
    "                pass\n",
    "            else:\n",
    "                cords.append([i,j]) \n",
    "    return cords\n",
    "    '''"
   ]
  },
  {
   "cell_type": "code",
   "execution_count": 21,
   "metadata": {},
   "outputs": [],
   "source": [
    "# change the coordinate \n",
    "def change_cords(h,w, x,y, coords):\n",
    "    coords = np.array(coords)\n",
    "    coords [:,0] = coords [:,0] * x/h\n",
    "    coords [:,1] = coords [:,1] * y/w\n",
    "    return coords"
   ]
  },
  {
   "cell_type": "code",
   "execution_count": 9,
   "metadata": {},
   "outputs": [],
   "source": [
    "# Turn the coordinates into (x,y) sequence\n",
    "# Average out y_s if they have the same x value\n",
    "def average_coords(coords, decimal):\n",
    "    coords[:,1] = np.around(coords,decimals =2)[:,1]\n",
    "    x_val = list(set(coords[:,1]))\n",
    "    return_val = np.zeros((len(x_val),2))\n",
    "    return_val[:,0] = x_val\n",
    "    for i in range(len(x_val)):\n",
    "        val = coords[coords[:,1] == x_val[i]][:,0].mean()\n",
    "        #print(val)\n",
    "        return_val[i,1] = val\n",
    "    return return_val\n",
    "\n",
    "    "
   ]
  },
  {
   "cell_type": "code",
   "execution_count": 10,
   "metadata": {},
   "outputs": [],
   "source": [
    "def main(color, figure, delta):\n",
    "    curve_coords = extract_cord(h, w, figure, color, delta)\n",
    "    coords = change_cords(h,w, 160,150, curve_coords)\n",
    "    final = average_coords(coords, 2)\n",
    "    return final"
   ]
  },
  {
   "cell_type": "code",
   "execution_count": 71,
   "metadata": {},
   "outputs": [
    {
     "name": "stdout",
     "output_type": "stream",
     "text": [
      "[123 123 123 ... 905 906 907] [159 160 161 ...   3   3   3]\n",
      "[[785. 159.]\n",
      " [785. 160.]\n",
      " [785. 161.]\n",
      " ...\n",
      " [  3.   3.]\n",
      " [  2.   3.]\n",
      " [  1.   3.]]\n",
      "[[138.32599119  18.51708075]\n",
      " [138.32599119  18.63354037]\n",
      " [138.32599119  18.75      ]\n",
      " ...\n",
      " [  0.52863436   0.34937888]\n",
      " [  0.35242291   0.34937888]\n",
      " [  0.17621145   0.34937888]]\n"
     ]
    }
   ],
   "source": [
    "blue2 = main(np.array([0,0,255]), figure1, 80)"
   ]
  },
  {
   "cell_type": "markdown",
   "metadata": {},
   "source": [
    "### 3. Visualization"
   ]
  },
  {
   "cell_type": "code",
   "execution_count": 17,
   "metadata": {},
   "outputs": [],
   "source": [
    "import matplotlib.pyplot as plt"
   ]
  },
  {
   "cell_type": "code",
   "execution_count": 72,
   "metadata": {},
   "outputs": [
    {
     "data": {
      "text/plain": [
       "<matplotlib.collections.PathCollection at 0x7fa54bce6748>"
      ]
     },
     "execution_count": 72,
     "metadata": {},
     "output_type": "execute_result"
    },
    {
     "data": {
      "image/png": "[encoded data removed]",
      "text/plain": [
       "<Figure size 432x288 with 1 Axes>"
      ]
     },
     "metadata": {
      "needs_background": "light"
     },
     "output_type": "display_data"
    }
   ],
   "source": [
    "plt.scatter(blue2[:,0],blue2[:,1])"
   ]
  },
  {
   "cell_type": "markdown",
   "metadata": {},
   "source": [
    "### 4. Export to excel"
   ]
  },
  {
   "cell_type": "code",
   "execution_count": 31,
   "metadata": {},
   "outputs": [],
   "source": [
    "import pandas as pd"
   ]
  },
  {
   "cell_type": "code",
   "execution_count": 32,
   "metadata": {},
   "outputs": [],
   "source": [
    "def export (coords, filepath):\n",
    "    df = pd.DataFrame (coords)\n",
    "    df.to_excel(filepath, index=False)"
   ]
  },
  {
   "cell_type": "code",
   "execution_count": 73,
   "metadata": {},
   "outputs": [],
   "source": [
    "filepath = 'figure4_blue.xlsx'\n",
    "export(blue2, filepath)"
   ]
  },
  {
   "cell_type": "code",
   "execution_count": null,
   "metadata": {},
   "outputs": [],
   "source": []
  }
 ],
 "metadata": {
  "kernelspec": {
   "display_name": "Python 3",
   "language": "python",
   "name": "python3"
  },
  "language_info": {
   "codemirror_mode": {
    "name": "ipython",
    "version": 3
   },
   "file_extension": ".py",
   "mimetype": "text/x-python",
   "name": "python",
   "nbconvert_exporter": "python",
   "pygments_lexer": "ipython3",
   "version": "3.7.3"
  }
 },
 "nbformat": 4,
 "nbformat_minor": 4
}
